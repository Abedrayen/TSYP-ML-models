{
 "cells": [
  {
   "cell_type": "code",
   "execution_count": 20,
   "id": "0094b752-d1c7-4d4e-bbbb-56c2651c3e7f",
   "metadata": {
    "tags": []
   },
   "outputs": [],
   "source": [
    "import pandas as pd\n",
    "from sklearn.model_selection import train_test_split\n",
    "from sklearn.ensemble import RandomForestClassifier\n"
   ]
  },
  {
   "cell_type": "code",
   "execution_count": 21,
   "id": "b5089cf2-cf94-4bc9-b6b6-a088ff318aa6",
   "metadata": {
    "tags": []
   },
   "outputs": [],
   "source": [
    "# Load the Pima Indians Diabetes Database dataset\n",
    "data = pd.read_csv('datasets/diabetes.csv')\n",
    "\n",
    "# Separate features (X) and labels (y)\n",
    "X = data.drop('Outcome', axis=1)\n",
    "y = data['Outcome']\n",
    "\n",
    "# Split data into training and testing sets\n",
    "X_train, X_test, y_train, y_test = train_test_split(X, y, test_size=0.2)"
   ]
  },
  {
   "cell_type": "code",
   "execution_count": 22,
   "id": "3f1b33c9-0d37-44c8-9c33-3543d1bc192d",
   "metadata": {
    "tags": []
   },
   "outputs": [],
   "source": [
    "# Create a Random Forest classifier\n",
    "classifier = RandomForestClassifier(n_estimators=100)\n",
    "\n",
    "# Train the classifier on the training data\n",
    "classifier.fit(X_train, y_train)\n",
    "y_pred = classifier.predict(X_test)"
   ]
  },
  {
   "cell_type": "code",
   "execution_count": 23,
   "id": "0d2f4fb2-a228-471f-97b3-0bd26e1b71c8",
   "metadata": {
    "tags": []
   },
   "outputs": [
    {
     "data": {
      "text/plain": [
       "0.9925"
      ]
     },
     "execution_count": 23,
     "metadata": {},
     "output_type": "execute_result"
    }
   ],
   "source": [
    "from sklearn.metrics import accuracy_score\n",
    "accuracy_score(y_pred, y_test)"
   ]
  },
  {
   "cell_type": "code",
   "execution_count": 24,
   "id": "79fca881-3b36-42cd-bc2c-1c18e1958866",
   "metadata": {
    "tags": []
   },
   "outputs": [],
   "source": [
    "def main():\n",
    "    print(\"Diabetes Prediction Program\")\n",
    "\n",
    "    # Take input for health metrics\n",
    "    preg = int(input(\"Number of pregnancies: \"))\n",
    "    glucose = float(input(\"Plasma glucose concentration: \"))\n",
    "    blood_pressure = float(input(\"Diastolic blood pressure: \"))\n",
    "    skin_thickness = float(input(\"Triceps skin fold thickness: \"))\n",
    "    insulin = float(input(\"2-Hour serum insulin: \"))\n",
    "    bmi = float(input(\"BMI: \"))\n",
    "    diabetes_pedigree = float(input(\"Diabetes pedigree function: \"))\n",
    "    age = int(input(\"Age: \"))\n",
    "    #Predict\n",
    "    prediction = classifier.predict([[preg, glucose, blood_pressure, skin_thickness, insulin, bmi, diabetes_pedigree, age]])\n",
    "\n",
    "    if prediction[0] == 0:\n",
    "        print(\"Likely not diabetic.\")\n",
    "    else:\n",
    "        print(\"Likely diabetic.\")"
   ]
  },
  {
   "cell_type": "code",
   "execution_count": 25,
   "id": "d9438db3-6df4-4834-8fa2-d1dfd433f953",
   "metadata": {
    "tags": []
   },
   "outputs": [
    {
     "name": "stdout",
     "output_type": "stream",
     "text": [
      "Diabetes Prediction Program\n"
     ]
    },
    {
     "name": "stdin",
     "output_type": "stream",
     "text": [
      "Number of pregnancies:  0\n",
      "Plasma glucose concentration:  50\n",
      "Diastolic blood pressure:  70\n",
      "Triceps skin fold thickness:  36\n",
      "2-Hour serum insulin:  12\n",
      "BMI:  0.22\n",
      "Diabetes pedigree function:  33\n",
      "Age:  20\n"
     ]
    },
    {
     "name": "stdout",
     "output_type": "stream",
     "text": [
      "Likely not diabetic.\n"
     ]
    },
    {
     "name": "stderr",
     "output_type": "stream",
     "text": [
      "C:\\Users\\hp\\anaconda3\\Lib\\site-packages\\sklearn\\base.py:464: UserWarning: X does not have valid feature names, but RandomForestClassifier was fitted with feature names\n",
      "  warnings.warn(\n"
     ]
    }
   ],
   "source": [
    "main()"
   ]
  },
  {
   "cell_type": "code",
   "execution_count": null,
   "id": "a069c0c9-f720-42b1-a549-41ab2c828d21",
   "metadata": {},
   "outputs": [],
   "source": []
  }
 ],
 "metadata": {
  "kernelspec": {
   "display_name": "Python 3 (ipykernel)",
   "language": "python",
   "name": "python3"
  },
  "language_info": {
   "codemirror_mode": {
    "name": "ipython",
    "version": 3
   },
   "file_extension": ".py",
   "mimetype": "text/x-python",
   "name": "python",
   "nbconvert_exporter": "python",
   "pygments_lexer": "ipython3",
   "version": "3.11.5"
  }
 },
 "nbformat": 4,
 "nbformat_minor": 5
}
