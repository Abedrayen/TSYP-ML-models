{
 "cells": [
  {
   "cell_type": "code",
   "execution_count": 4,
   "id": "c8f9c49f-a012-424f-8640-19edca77fa5f",
   "metadata": {
    "tags": []
   },
   "outputs": [
    {
     "name": "stdout",
     "output_type": "stream",
     "text": [
      "Best Parameters:  {'metric': 'manhattan', 'n_neighbors': 3}\n",
      "Best Accuracy:  0.9395121951219512\n"
     ]
    }
   ],
   "source": [
    "import pandas as pd\n",
    "import numpy as np\n",
    "from sklearn.preprocessing import StandardScaler\n",
    "from sklearn.neighbors import KNeighborsClassifier\n",
    "from sklearn.metrics import accuracy_score\n",
    "from sklearn.model_selection import train_test_split, GridSearchCV\n",
    "\n",
    "def pre_processing(X):\n",
    "    sc = StandardScaler()\n",
    "    X = sc.fit_transform(X)\n",
    "    return X\n",
    "\n",
    "def training():\n",
    "    df = pd.read_csv(\"datasets/heart.csv\")\n",
    "    y = df[\"target\"]\n",
    "    df.drop(\"target\", axis=\"columns\", inplace=True)\n",
    "    X = df\n",
    "\n",
    "    # Preprocess the data\n",
    "    X = pre_processing(X)\n",
    "\n",
    "    # Create a KNN classifier\n",
    "    knn_classifier = KNeighborsClassifier()\n",
    "\n",
    "    # Define a parameter grid to search\n",
    "    param_grid = {'n_neighbors': [3, 5, 7, 9], 'metric': ['minkowski', 'manhattan', 'euclidean']}\n",
    "\n",
    "    # Use GridSearchCV for parameter tuning\n",
    "    grid_search = GridSearchCV(knn_classifier, param_grid, cv=5, scoring='accuracy')\n",
    "    grid_search.fit(X, y)\n",
    "\n",
    "    # Print the best parameters and corresponding accuracy\n",
    "    print(\"Best Parameters: \", grid_search.best_params_)\n",
    "    print(\"Best Accuracy: \", grid_search.best_score_)\n",
    "\n",
    "if __name__ == \"__main__\":\n",
    "    training()"
   ]
  },
  {
   "cell_type": "code",
   "execution_count": null,
   "id": "6eda68e2-dd9a-43fb-a33b-c4d17d7f63a4",
   "metadata": {},
   "outputs": [],
   "source": []
  }
 ],
 "metadata": {
  "kernelspec": {
   "display_name": "Python 3 (ipykernel)",
   "language": "python",
   "name": "python3"
  },
  "language_info": {
   "codemirror_mode": {
    "name": "ipython",
    "version": 3
   },
   "file_extension": ".py",
   "mimetype": "text/x-python",
   "name": "python",
   "nbconvert_exporter": "python",
   "pygments_lexer": "ipython3",
   "version": "3.11.5"
  }
 },
 "nbformat": 4,
 "nbformat_minor": 5
}
